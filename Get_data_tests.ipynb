{
 "cells": [
  {
   "cell_type": "code",
   "execution_count": null,
   "metadata": {},
   "outputs": [],
   "source": [
    "import requests\n",
    "import re\n",
    "import pandas as pd\n",
    "from urllib.parse import quote\n",
    "from datetime import datetime\n",
    "import matplotlib.pyplot as plt\n",
    "pd.set_option('display.max_rows', 500)"
   ]
  },
  {
   "cell_type": "code",
   "execution_count": null,
   "metadata": {},
   "outputs": [],
   "source": [
    "# Define a user agent string\n",
    "user_agent = 'MandarineCorp (clementine.naim@epfl.ch)'\n",
    "\n",
    "# Specify the headers with the user agent\n",
    "headers = {\n",
    "    'User-Agent': user_agent,\n",
    "    'accept': 'application/json'\n",
    "}\n"
   ]
  },
  {
   "cell_type": "code",
   "execution_count": null,
   "metadata": {},
   "outputs": [],
   "source": [
    "#SUMMARY OF THE PAGE \n",
    "\n",
    "# URL for the Wikimedia REST API to get information about a page\n",
    "url = f'https://en.wikipedia.org/api/rest_v1/page/summary/absurdism'\n",
    "\n",
    "# Making a GET request\n",
    "response = requests.get(url)\n",
    "\n",
    "# Check if the request was successful (status code 200)\n",
    "if response.status_code == 200:\n",
    "    # Print the response content\n",
    "    data = response.json()\n",
    "    print(f\"Title: {data['title']}\")\n",
    "    print(f\"Description: {data['description']}\")\n",
    "    print(f\"Extract: {data['extract']}\")\n",
    "else:\n",
    "    # Print an error message if the request was unsuccessful\n",
    "    print(f\"Error: {response.status_code}\")\n",
    "    print(response.text)"
   ]
  },
  {
   "cell_type": "code",
   "execution_count": null,
   "metadata": {},
   "outputs": [],
   "source": [
    "#PAGEVIEW TEST FOR ONE\n",
    "page_title= 'Absolute (philosophy)'\n",
    "\n",
    "url = f'https://wikimedia.org/api/rest_v1/metrics/pageviews/per-article/en.wikipedia.org/all-access/all-agents/{page_title}/daily/2020031500/2020041500'\n",
    "\n",
    "\n",
    "# Making a GET request\n",
    "response_views = requests.get(url,headers=headers)\n",
    "\n",
    "# Check if the request was successful (status code 200)\n",
    "if response_views.status_code == 200:\n",
    "    # Print the response content\n",
    "    data = response_views.json()\n",
    "else: \n",
    "    # Print an error message if the request was unsuccessful\n",
    "    print(f\"Error: {response_views.status_code}\")\n",
    "    print(page_title)\n",
    "\n",
    "# Extract the 'items' list from the data\n",
    "items_list = data['items']\n",
    "# Create a DataFrame\n",
    "df = pd.DataFrame(items_list)\n",
    "display(df)"
   ]
  },
  {
   "cell_type": "code",
   "execution_count": 1,
   "metadata": {},
   "outputs": [
    {
     "ename": "NameError",
     "evalue": "name 'requests' is not defined",
     "output_type": "error",
     "traceback": [
      "\u001b[0;31m---------------------------------------------------------------------------\u001b[0m",
      "\u001b[0;31mNameError\u001b[0m                                 Traceback (most recent call last)",
      "\u001b[1;32m/Users/moi/ADA2023/ada-2023-project-mandarinecorp/Get_data_tests.ipynb Cellule 5\u001b[0m line \u001b[0;36m1\n\u001b[1;32m      <a href='vscode-notebook-cell:/Users/moi/ADA2023/ada-2023-project-mandarinecorp/Get_data_tests.ipynb#W4sZmlsZQ%3D%3D?line=6'>7</a>\u001b[0m params \u001b[39m=\u001b[39m {\n\u001b[1;32m      <a href='vscode-notebook-cell:/Users/moi/ADA2023/ada-2023-project-mandarinecorp/Get_data_tests.ipynb#W4sZmlsZQ%3D%3D?line=7'>8</a>\u001b[0m     \u001b[39m'\u001b[39m\u001b[39maction\u001b[39m\u001b[39m'\u001b[39m: \u001b[39m'\u001b[39m\u001b[39mquery\u001b[39m\u001b[39m'\u001b[39m,\n\u001b[1;32m      <a href='vscode-notebook-cell:/Users/moi/ADA2023/ada-2023-project-mandarinecorp/Get_data_tests.ipynb#W4sZmlsZQ%3D%3D?line=8'>9</a>\u001b[0m     \u001b[39m'\u001b[39m\u001b[39mprop\u001b[39m\u001b[39m'\u001b[39m: \u001b[39m'\u001b[39m\u001b[39mrevisions\u001b[39m\u001b[39m'\u001b[39m,\n\u001b[0;32m   (...)\u001b[0m\n\u001b[1;32m     <a href='vscode-notebook-cell:/Users/moi/ADA2023/ada-2023-project-mandarinecorp/Get_data_tests.ipynb#W4sZmlsZQ%3D%3D?line=13'>14</a>\u001b[0m     \u001b[39m'\u001b[39m\u001b[39mformat\u001b[39m\u001b[39m'\u001b[39m: \u001b[39m'\u001b[39m\u001b[39mjson\u001b[39m\u001b[39m'\u001b[39m\n\u001b[1;32m     <a href='vscode-notebook-cell:/Users/moi/ADA2023/ada-2023-project-mandarinecorp/Get_data_tests.ipynb#W4sZmlsZQ%3D%3D?line=14'>15</a>\u001b[0m }\n\u001b[1;32m     <a href='vscode-notebook-cell:/Users/moi/ADA2023/ada-2023-project-mandarinecorp/Get_data_tests.ipynb#W4sZmlsZQ%3D%3D?line=16'>17</a>\u001b[0m \u001b[39m# Make the API request\u001b[39;00m\n\u001b[0;32m---> <a href='vscode-notebook-cell:/Users/moi/ADA2023/ada-2023-project-mandarinecorp/Get_data_tests.ipynb#W4sZmlsZQ%3D%3D?line=17'>18</a>\u001b[0m response \u001b[39m=\u001b[39m requests\u001b[39m.\u001b[39mget(api_url, params\u001b[39m=\u001b[39mparams)\n\u001b[1;32m     <a href='vscode-notebook-cell:/Users/moi/ADA2023/ada-2023-project-mandarinecorp/Get_data_tests.ipynb#W4sZmlsZQ%3D%3D?line=19'>20</a>\u001b[0m \u001b[39m# Check if the request was successful (status code 200)\u001b[39;00m\n\u001b[1;32m     <a href='vscode-notebook-cell:/Users/moi/ADA2023/ada-2023-project-mandarinecorp/Get_data_tests.ipynb#W4sZmlsZQ%3D%3D?line=20'>21</a>\u001b[0m \u001b[39mif\u001b[39;00m response\u001b[39m.\u001b[39mstatus_code \u001b[39m==\u001b[39m \u001b[39m200\u001b[39m:\n\u001b[1;32m     <a href='vscode-notebook-cell:/Users/moi/ADA2023/ada-2023-project-mandarinecorp/Get_data_tests.ipynb#W4sZmlsZQ%3D%3D?line=21'>22</a>\u001b[0m     \u001b[39m# Parse the JSON response\u001b[39;00m\n",
      "\u001b[0;31mNameError\u001b[0m: name 'requests' is not defined"
     ]
    }
   ],
   "source": [
    "#GET THE LIST OF PHILOSOPHIES PAGES With GLOSSARY  pages because in more languages \n",
    "\n",
    "# Specify the API endpoint URL\n",
    "api_url = \"https://en.wikipedia.org/w/api.php\"\n",
    "\n",
    "# Specify the parameters for the API request\n",
    "params = {\n",
    "    'action': 'query',\n",
    "    'prop': 'revisions',\n",
    "    'titles': 'Glossary_of_philosophy',\n",
    "    'rvslots': '*',\n",
    "    'rvprop': 'content',\n",
    "    'formatversion': 2,\n",
    "    'format': 'json'\n",
    "}\n",
    "\n",
    "# Make the API request\n",
    "response = requests.get(api_url, params=params)\n",
    "\n",
    "# Check if the request was successful (status code 200)\n",
    "if response.status_code == 200:\n",
    "    # Parse the JSON response\n",
    "    data = response.json()\n",
    "\n",
    "    # Extract the content of the first revision\n",
    "    revisions = data['query']['pages'][0]['revisions']\n",
    "    \n",
    "    if revisions:\n",
    "        content = revisions[0]['slots']['main']['content']\n",
    "    else:\n",
    "        print(\"No revision content found.\")\n",
    "else:\n",
    "    # Print an error message if the request was unsuccessful\n",
    "    print(f\"Error: {response.status_code}\")\n",
    "    \n",
    "\n",
    "#Avoid problem of double description of terms (part before | = page title ; after | = philosophy name)\n",
    "term_matches = re.findall(r'{{term\\|\\[\\[([^|\\]]+)(?:\\|[^]]+)?\\]\\]\\}}', content)\n",
    "# Display the list of extracted terms\n",
    "print(\"List of Terms:\")\n",
    "print(term_matches)\n",
    "\n",
    "capitalized_list = [term.capitalize() for term in term_matches]\n",
    "\n",
    "# Display the list of capitalized terms\n",
    "print(\"Capitalized Terms:\")\n",
    "print(capitalized_list)"
   ]
  },
  {
   "cell_type": "code",
   "execution_count": null,
   "metadata": {},
   "outputs": [],
   "source": []
  }
 ],
 "metadata": {
  "kernelspec": {
   "display_name": "ada",
   "language": "python",
   "name": "python3"
  },
  "language_info": {
   "codemirror_mode": {
    "name": "ipython",
    "version": 3
   },
   "file_extension": ".py",
   "mimetype": "text/x-python",
   "name": "python",
   "nbconvert_exporter": "python",
   "pygments_lexer": "ipython3",
   "version": "3.9.18"
  }
 },
 "nbformat": 4,
 "nbformat_minor": 2
}
