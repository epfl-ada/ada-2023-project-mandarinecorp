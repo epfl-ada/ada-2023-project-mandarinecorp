{
 "cells": [
  {
   "cell_type": "code",
   "execution_count": 1,
   "id": "28f5d727-c1f7-4d44-93e1-1243477f39ff",
   "metadata": {
    "tags": []
   },
   "outputs": [],
   "source": [
    "import requests\n",
    "import re\n",
    "import pandas as pd"
   ]
  },
  {
   "cell_type": "code",
   "execution_count": 2,
   "id": "0216e6ca-be3e-4b97-88d6-f108e8caf61f",
   "metadata": {
    "tags": []
   },
   "outputs": [],
   "source": [
    "# Define a user agent string\n",
    "user_agent = 'MandarineCorp (clementine.naim@epfl.ch)'\n",
    "\n",
    "# Specify the headers with the user agent\n",
    "headers = {\n",
    "    'User-Agent': user_agent,\n",
    "    'accept': 'application/json'\n",
    "}\n"
   ]
  },
  {
   "cell_type": "code",
   "execution_count": 3,
   "id": "bf7676df-d437-475a-b7d1-54a1c0f08979",
   "metadata": {
    "tags": []
   },
   "outputs": [],
   "source": [
    "#SUMMARY OF THE PAGE \n",
    "\n",
    "# URL for the Wikimedia REST API to get information about a page\n",
    "url = f'https://en.wikipedia.org/api/rest_v1/page/summary/Epicureanism'\n",
    "\n",
    "# Making a GET request\n",
    "response = requests.get(url)\n",
    "\n",
    "# Check if the request was successful (status code 200)\n",
    "if response.status_code == 200:\n",
    "    # Print the response content\n",
    "    data = response.json()\n",
    "    #print(f\"Title: {data['title']}\")\n",
    "    #print(f\"Description: {data['description']}\")\n",
    "    #print(f\"Extract: {data['extract']}\")\n",
    "else:\n",
    "    # Print an error message if the request was unsuccessful\n",
    "    print(f\"Error: {response.status_code}\")\n",
    "    print(response.text)"
   ]
  },
  {
   "cell_type": "code",
   "execution_count": 4,
   "id": "9db9357a-f668-4c5f-b545-897dd78d9df1",
   "metadata": {
    "tags": []
   },
   "outputs": [],
   "source": [
    "#GET THE LIST OF PHILOSOPHIES PAGES \n",
    "\n",
    "# Specify the API endpoint URL\n",
    "api_url = \"https://en.wikipedia.org/w/api.php\"\n",
    "\n",
    "# Specify the parameters for the API request\n",
    "params = {\n",
    "    'action': 'query',\n",
    "    'prop': 'revisions',\n",
    "    'titles': 'List_of_philosophies',\n",
    "    'rvslots': '*',\n",
    "    'rvprop': 'content',\n",
    "    'formatversion': 2,\n",
    "    'format': 'json'\n",
    "}\n",
    "\n",
    "# Make the API request\n",
    "response = requests.get(api_url, params=params)\n",
    "\n",
    "# Check if the request was successful (status code 200)\n",
    "if response.status_code == 200:\n",
    "    # Parse the JSON response\n",
    "    data = response.json()\n",
    "\n",
    "    # Extract the content of the first revision\n",
    "    revisions = data['query']['pages'][0]['revisions']\n",
    "    \n",
    "    if revisions:\n",
    "        content = revisions[0]['slots']['main']['content']\n",
    "        \n",
    "        # Use a regular expression to find section titles\n",
    "        section_titles = re.findall(r'\\[\\[([^|\\]]+)(?:\\|[^]]+)?\\]\\]', content)\n",
    "        \n",
    "        while section_titles[0][0]!='A' or section_titles[-1][0]!='Z':\n",
    "            if section_titles[0][0]!='A':\n",
    "                section_titles.pop(0)\n",
    "            if section_titles[-1][0]!='Z':\n",
    "                section_titles.pop(-1)\n",
    "\n",
    "        # Display the list of section titles\n",
    "        #print(\"List of Section Titles:\")\n",
    "        #print(section_titles)\n",
    "    else:\n",
    "        print(\"No revision content found.\")\n",
    "else:\n",
    "    # Print an error message if the request was unsuccessful\n",
    "    print(f\"Error: {response.status_code}\")\n",
    "    #print(response.text)"
   ]
  },
  {
   "cell_type": "code",
   "execution_count": null,
   "id": "81a4305b-7f4c-4c6d-8eb2-5b598c66020e",
   "metadata": {
    "tags": []
   },
   "outputs": [
    {
     "name": "stdout",
     "output_type": "stream",
     "text": [
      "Error: 404\n",
      "Nonduality (spirituality)\n"
     ]
    }
   ],
   "source": [
    "philo_views_en=pd.DataFrame()\n",
    "\n",
    "#PAGEVIEWS \n",
    "\n",
    "for page_title in section_titles : \n",
    "    # URL for the Wikimedia Pagecounts API to get the number of views for a page\n",
    "    url = f'https://wikimedia.org/api/rest_v1/metrics/pageviews/per-article/en.wikipedia.org/all-access/all-agents/{page_title}/daily/2020031500/2020041500'\n",
    "\n",
    "    # Define a user agent string\n",
    "    user_agent = 'MandarineCorp (clementine.naim@epfl.ch)'\n",
    "\n",
    "    # Specify the headers with the user agent\n",
    "    headers = {\n",
    "        'User-Agent': user_agent,\n",
    "        'accept': 'application/json'\n",
    "    }\n",
    "\n",
    "    # Making a GET request\n",
    "    response_views = requests.get(url,headers=headers)\n",
    "\n",
    "\n",
    "\n",
    "    # Check if the request was successful (status code 200)\n",
    "    if response_views.status_code == 200:\n",
    "        # Print the response content\n",
    "        data = response_views.json()\n",
    "        #if 'items' in data:\n",
    "            # The number of views is typically available in the first item of the 'items' list\n",
    "            #views = data['items']['views']\n",
    "            #print(f\"Number of views for '{page_title}': {views}\")\n",
    "            #print(data)\n",
    "        #else:\n",
    "            #print(\"No view data available for the specified page.\")\n",
    "    else:\n",
    "        # Print an error message if the request was unsuccessful\n",
    "        print(f\"Error: {response_views.status_code}\")\n",
    "        print(page_title)\n",
    "        #print(response_views.text)\n",
    "\n",
    "\n",
    "    # Extract the 'items' list from the data\n",
    "    items_list = data['items']\n",
    "\n",
    "    # Create a DataFrame\n",
    "    df = pd.DataFrame(items_list)\n",
    "    philo_views_en = pd.concat([philo_views_en,df])"
   ]
  },
  {
   "cell_type": "code",
   "execution_count": null,
   "id": "e5768b1b-0095-40ea-af9c-38b9c2604ea2",
   "metadata": {
    "tags": []
   },
   "outputs": [],
   "source": [
    "display(philo_views_en)"
   ]
  },
  {
   "cell_type": "code",
   "execution_count": null,
   "id": "502d748a-17c9-43e3-8916-b277094cce74",
   "metadata": {},
   "outputs": [],
   "source": []
  }
 ],
 "metadata": {
  "kernelspec": {
   "display_name": "Python3",
   "language": "python",
   "name": "python3"
  },
  "language_info": {
   "codemirror_mode": {
    "name": "ipython",
    "version": 3
   },
   "file_extension": ".py",
   "mimetype": "text/x-python",
   "name": "python",
   "nbconvert_exporter": "python",
   "pygments_lexer": "ipython3",
   "version": "3.11.5"
  }
 },
 "nbformat": 4,
 "nbformat_minor": 5
}
