{
 "cells": [
  {
   "cell_type": "code",
   "execution_count": 2,
   "metadata": {},
   "outputs": [],
   "source": [
    "import requests\n",
    "import re\n",
    "import pandas as pd\n",
    "from urllib.parse import quote\n",
    "from datetime import datetime\n",
    "import matplotlib.pyplot as plt\n",
    "import numpy as np\n",
    "pd.set_option('display.max_rows', 500)"
   ]
  },
  {
   "cell_type": "code",
   "execution_count": 3,
   "metadata": {},
   "outputs": [],
   "source": [
    "# Define a user agent string\n",
    "user_agent = 'MandarineCorp (louis.brun@epfl.ch)'\n",
    "\n",
    "# Specify the headers with the user agent\n",
    "headers = {\n",
    "    'User-Agent': user_agent,\n",
    "    'accept': 'application/json'\n",
    "}\n"
   ]
  },
  {
   "cell_type": "markdown",
   "metadata": {},
   "source": [
    "## RETRIEVE LIST OF PHILOSOPHIES IN **ENGLISH**"
   ]
  },
  {
   "cell_type": "code",
   "execution_count": 9,
   "metadata": {},
   "outputs": [],
   "source": [
    "#GET THE PHILOSOPHIES FROM THE PAGE : List of philosophies\n",
    "\n",
    "# Specify the API endpoint URL\n",
    "api_url = \"https://en.wikipedia.org/w/api.php\"\n",
    "\n",
    "# Specify the parameters for the API request\n",
    "params = {\n",
    "    'action': 'query',\n",
    "    'prop': 'revisions',\n",
    "    'titles': 'List_of_philosophies',\n",
    "    'rvslots': '*',\n",
    "    'rvprop': 'content',\n",
    "    'formatversion': 2,\n",
    "    'format': 'json'\n",
    "}\n",
    "\n",
    "# API request\n",
    "response = requests.get(api_url, params=params)\n",
    "\n",
    "# Check if the request was successful (status code 200)\n",
    "if response.status_code == 200:\n",
    "    data = response.json()\n",
    "\n",
    "    # Extract the content of the first revision\n",
    "    revisions = data['query']['pages'][0]['revisions']\n",
    "    \n",
    "    if revisions:\n",
    "        content = revisions[0]['slots']['main']['content']\n",
    "        \n",
    "        # Use a regular expression to find section titles\n",
    "        section_titles = re.findall(r'\\[\\[([^|\\]]+)(?:\\|[^]]+)?\\]\\]', content)\n",
    "        \n",
    "        while section_titles[0][0]!='A' or section_titles[-1][0]!='Z':\n",
    "            if section_titles[0][0]!='A':\n",
    "                section_titles.pop(0)\n",
    "            if section_titles[-1][0]!='Z':\n",
    "                section_titles.pop(-1)\n",
    "\n",
    "        #print(section_titles)\n",
    "    else:\n",
    "        print(\"No content found.\")\n",
    "else:\n",
    "    # Print an error message if the request was unsuccessful\n",
    "    print(f\"Error: {response.status_code}\")\n"
   ]
  },
  {
   "cell_type": "code",
   "execution_count": 10,
   "metadata": {},
   "outputs": [],
   "source": [
    "np.save('data/section_titles.npy', section_titles)"
   ]
  },
  {
   "cell_type": "markdown",
   "metadata": {},
   "source": [
    "### DATAFRAME OF PHILOSOPHIES IN ENGLISH AND VIEWS (1 COLUMN ARTICLE)"
   ]
  },
  {
   "cell_type": "code",
   "execution_count": 12,
   "metadata": {},
   "outputs": [
    {
     "name": "stdout",
     "output_type": "stream",
     "text": [
      "Error: 404\n",
      "Nonduality (spirituality)\n"
     ]
    }
   ],
   "source": [
    "philo_views_en=pd.DataFrame()\n",
    "\n",
    "#PAGEVIEWS \n",
    "for page_title in section_titles: \n",
    "    # URL for the Wikimedia Pagecounts API to get the number of views for a page\n",
    "    url = f'https://wikimedia.org/api/rest_v1/metrics/pageviews/per-article/en.wikipedia.org/all-access/all-agents/{page_title}/monthly/2018010100/2023010100'\n",
    "\n",
    "    # Define a user agent to have acces to the API \n",
    "    user_agent = 'MandarineCorp (louis.brun@epfl.ch)'\n",
    "\n",
    "    # Specify the headers with the user agent\n",
    "    headers = {\n",
    "        'User-Agent': user_agent,\n",
    "        'accept': 'application/json'\n",
    "    }\n",
    "\n",
    "    # Making a GET request\n",
    "    response_views = requests.get(url,headers=headers)\n",
    "\n",
    "    # Check if the request was successful (status code 200)\n",
    "    if response_views.status_code == 200:\n",
    "        # Print the response content\n",
    "        data = response_views.json()\n",
    "    else:\n",
    "        # Print an error message if the request was unsuccessful\n",
    "        print(f\"Error: {response_views.status_code}\")\n",
    "        print(page_title)\n",
    "\n",
    "\n",
    "    # Extract the 'items' list from the data\n",
    "    items_list = data['items']\n",
    "\n",
    "    # Create a DataFrame\n",
    "    df = pd.DataFrame(items_list)\n",
    "    philo_views_en = pd.concat([philo_views_en,df])"
   ]
  },
  {
   "cell_type": "code",
   "execution_count": 13,
   "metadata": {},
   "outputs": [],
   "source": [
    "#display(philo_views_en)\n",
    "columns_to_remove = ['granularity','access','agent']\n",
    "philo_views_en.drop(columns=columns_to_remove,axis=1,inplace=True)\n",
    "philo_views_en.to_csv('data/Philo_en.csv',index=False)"
   ]
  },
  {
   "cell_type": "markdown",
   "metadata": {},
   "source": [
    "# Get the views for the diffrent languages"
   ]
  },
  {
   "cell_type": "code",
   "execution_count": null,
   "metadata": {},
   "outputs": [],
   "source": [
    "target_languages = ['fr', 'ja', 'de', 'it','da','nl','no','sr','sv','ko','fi'] "
   ]
  },
  {
   "cell_type": "code",
   "execution_count": null,
   "metadata": {},
   "outputs": [],
   "source": [
    "def get_url_list(languages_list, page_titles):\n",
    "    api_url = \"https://en.wikipedia.org/w/api.php\"\n",
    "    language_links = []\n",
    "\n",
    "    for page in page_titles : \n",
    "\n",
    "    # Make separate requests for each language\n",
    "        for lang in target_languages:\n",
    "            params = {\n",
    "                'action': 'query',\n",
    "                'titles': page,\n",
    "                'prop': 'langlinks',\n",
    "                'llprop': 'url',\n",
    "                'format': 'json',\n",
    "                'lllang': lang,\n",
    "            }\n",
    "\n",
    "            # Make the API request\n",
    "            response = requests.get(api_url, params=params)\n",
    "            data = response.json()\n",
    "\n",
    "            # Check if the request was successful (status code 200)\n",
    "            if response.status_code == 200:\n",
    "                # Extract language links from the API response\n",
    "                pages = data['query']['pages']\n",
    "                page_id = next(iter(pages))\n",
    "                langlinks = pages[page_id].get('langlinks', [])\n",
    "                for link in langlinks:\n",
    "                    language_links.append( link['url'])\n",
    "            else:\n",
    "                print(f\"Error for language {lang}: {response.status_code}\")\n",
    "    return language_links\n",
    "        \n",
    "        "
   ]
  },
  {
   "cell_type": "code",
   "execution_count": null,
   "metadata": {},
   "outputs": [],
   "source": [
    "def find_country_code_and_title(link): #finds the country code from a given link, used in  get_page_views_by_languages(links)\n",
    "    state=0\n",
    "    code=\"\"\n",
    "    title=\"\"\n",
    "    for i in range(len(link)):\n",
    "        if state==2 and link[i]==\".\":\n",
    "            state+=1\n",
    "        if state==2:\n",
    "            code+=link[i]\n",
    "        if state==5:\n",
    "            title+=link[i]\n",
    "        if link[i]==\"/\":\n",
    "            state+=1\n",
    "    return code,title"
   ]
  },
  {
   "cell_type": "code",
   "execution_count": null,
   "metadata": {},
   "outputs": [],
   "source": [
    "def get_page_views_by_languages(links,page_titles):\n",
    "    philo_views=pd.DataFrame()\n",
    "    i=0\n",
    "    index_subject=0\n",
    "    for link in links:\n",
    "        # Define a user agent to have acces to the API \n",
    "        user_agent = 'MandarineCorp (clementine.naim@epfl.ch)'\n",
    "        # Specify the headers with the user agent\n",
    "        headers = {\n",
    "            'User-Agent': user_agent,\n",
    "            'accept': 'application/json'\n",
    "        \n",
    "        }\n",
    "        # Find country code:\n",
    "        code, title = find_country_code_and_title(link)\n",
    "        \n",
    "        subject=page_titles[index_subject]\n",
    "        url = f'https://wikimedia.org/api/rest_v1/metrics/pageviews/per-article/{code}.wikipedia.org/all-access/all-agents/{title}/monthly/2018010100/2023010100'\n",
    "        # Making a GET request\n",
    "        response_views = requests.get(url,headers=headers)\n",
    "\n",
    "        # Check if the request was successful (status code 200)\n",
    "        if response_views.status_code == 200:\n",
    "            # Print the response content\n",
    "            data = response_views.json()\n",
    "        #else:\n",
    "            # Print an error message if the request was unsuccessful\n",
    "            #print(f\"Error: {response_views.status_code}\")\n",
    "            #print(title)\n",
    "\n",
    "\n",
    "        # Extract the 'items' list from the data\n",
    "        items_list = data['items']\n",
    "        # Create a DataFrame\n",
    "        df = pd.DataFrame(items_list)\n",
    "        df[\"subject\"]=subject\n",
    "        df[\"code\"] =code\n",
    "        philo_views = pd.concat([philo_views,df])\n",
    "        i+=1\n",
    "        if i==11 :\n",
    "            index_subject+=1\n",
    "            i=0\n",
    "    return philo_views"
   ]
  },
  {
   "cell_type": "markdown",
   "metadata": {},
   "source": [
    "# DETERMINE BROADER TOPICS "
   ]
  },
  {
   "cell_type": "code",
   "execution_count": null,
   "metadata": {},
   "outputs": [],
   "source": [
    "#More accurate way to classifiy philosophies...to be completed \n",
    "\n",
    "philosophies = [\n",
    "    # List all the philosophies you provided\n",
    "    'Absolute (philosophy)', 'Absurdism', 'Tychism', 'Acosmism', 'Aestheticism', 'Agnostic atheism', 'Agnostic theism', 'Agnosticism', 'Altruism', 'Anarchism', # ... (remaining philosophies)\n",
    "]\n",
    "\n",
    "# Define the class hierarchy using dictionaries\n",
    "classifications = {\n",
    "    'Ontological and Metaphysical Orientations': {\n",
    "        'Metaphysical Theories': [\n",
    "            'Absolute (philosophy)', 'Acosmism', 'Idealism', 'Materialism', 'Monism and Dualism'\n",
    "        ],\n",
    "        'Ontological Views': [\n",
    "            'Pantheism', 'Realism and Nominalism', 'Substance Dualism'\n",
    "        ]\n",
    "    },\n",
    "    'Epistemological Frameworks': {\n",
    "        'Approaches to Knowledge': [\n",
    "            'Empiricism', 'Rationalism', 'Skepticism'\n",
    "        ],\n",
    "        'Epistemological Theories': [\n",
    "            'Constructivist Epistemology', 'Pragmatism', 'Reliabilism'\n",
    "        ]\n",
    "    },\n",
    "    'Ethical and Moral Philosophies': {\n",
    "    'Ethical Theories': [\n",
    "        'Absolutism and Relativism', 'Deontological Ethics', 'Utilitarianism'\n",
    "    ],\n",
    "    'Moral Views': [\n",
    "        'Altruism', 'Egoism', 'Moral Realism'\n",
    "    ]\n",
    "    },\n",
    "    \n",
    "}\n",
    "\n",
    "# Function to find the class/subclass for a philosophy\n",
    "def find_classification(philosophy):\n",
    "    for classification, subclasses in classifications.items():\n",
    "        for subclass, philosophies in subclasses.items():\n",
    "            if philosophy in philosophies:\n",
    "                return classification, subclass\n",
    "    return \"Not Classified\", \"Not Classified\"\n",
    "\n",
    "# Loop through all philosophies and print their classifications\n",
    "#for philosophy in philosophies:\n",
    "#    classification, subclass = find_classification(philosophy)\n",
    "#    print(f\"{philosophy} -> Class: {classification}, Subclass: {subclass}\")\n"
   ]
  },
  {
   "cell_type": "code",
   "execution_count": null,
   "metadata": {},
   "outputs": [],
   "source": [
    "#Construct broaders philosophy topics \n",
    "#Create the new lists\n",
    "metaphysics_and_ontology = ['Absolute (philosophy)', 'Acosmism', 'Animism', 'Atomism', 'Dualism (Mind-body dualism, Substance dualism)',\n",
    "                            'Emergent materialism', 'Immaterialism', 'Monism', 'Pantheism']\n",
    "\n",
    "existentialism_and_absurdism = ['Absurdism', 'Existentialism']# Je pense a split en 2 \n",
    "\n",
    "epistemology = ['Agnosticism', 'Empiricism', 'Rationalism']\n",
    "\n",
    "ethics_and_moral_philosophy = ['Altruism', 'Antinatalism', 'Consequentialism', 'Ethical egoism', 'Hedonism', 'Moral absolutism',\n",
    "                               'Moral realism', 'Moral relativism', 'Moral universalism', 'Utilitarianism']\n",
    "\n",
    "political_and_social_philosophy = ['Anarchism', 'Authoritarianism', 'Capitalism', 'Communism', 'Libertarianism', 'Socialism', 'Totalitarianism']\n",
    "\n",
    "philosophy_of_mind = ['Behaviorism', 'Dualism (Mind-body dualism, Substance dualism)', 'Functionalism (philosophy of mind)',\n",
    "                      'Idealism', 'Materialism', 'Phenomenalism', 'Physicalism', 'Solipsism']\n",
    "\n",
    "religious_and_theological_philosophy = ['Deism', 'Monotheism', 'Polytheism', 'Religious humanism', 'Theism']\n",
    "\n",
    "philosophy_of_time = ['Eternalism (philosophy of time)']\n",
    "\n",
    "philosophy_of_science = ['Empiricism', 'Positivism', 'Scientism']\n",
    "\n",
    "cultural_and_social_philosophy = ['Aestheticism', 'Anthropocentrism', 'Anthropomorphism', 'Cultural relativism', 'Environmentalism',\n",
    "                                  'Feminism', 'Humanism', 'Secular humanism']\n"
   ]
  },
  {
   "cell_type": "markdown",
   "metadata": {},
   "source": [
    "### DATAFRAME IN **ENGLISH** WITH BROADER TOPICS"
   ]
  },
  {
   "cell_type": "code",
   "execution_count": null,
   "metadata": {},
   "outputs": [],
   "source": [
    "# Create the new DataFrame with columns for each topic\n",
    "broader_philosophy_topics = pd.DataFrame(index=philo_views_en['timestamp'].unique())\n",
    "\n",
    "# Filter and aggregate views for each philosophy topic\n",
    "topics = {\n",
    "    'metaphysics_and_ontology': metaphysics_and_ontology,\n",
    "    'existentialism_and_absurdism': existentialism_and_absurdism,\n",
    "    'epistemology': epistemology,\n",
    "    'ethics_and_moral_philosophy': ethics_and_moral_philosophy,\n",
    "    'political_and_social_philosophy': political_and_social_philosophy,\n",
    "    'philosophy_of_mind': philosophy_of_mind,\n",
    "    'religious_and_theological_philosophy': religious_and_theological_philosophy,\n",
    "    'philosophy_of_time': philosophy_of_time,\n",
    "    'philosophy_of_science': philosophy_of_science,\n",
    "    'cultural_and_social_philosophy': cultural_and_social_philosophy\n",
    "}\n",
    "\n",
    "for topic, articles in topics.items():\n",
    "    topic_views = philo_views_en[philo_views_en['article'].isin(articles)]\n",
    "    topic_views = topic_views.groupby('timestamp')['views'].sum()\n",
    "    broader_philosophy_topics[topic] = topic_views\n",
    "\n",
    "# Now, broader_philosophy_topics contains aggregated views for each philosophy topic in one DataFrame\n",
    "\n",
    "#Drop last month of data because not complete\n",
    "    if broader_philosophy_topics.index[-1] == '2023010100' :\n",
    "        broader_philosophy_topics.drop(broader_philosophy_topics.index[-1], inplace=True)"
   ]
  },
  {
   "cell_type": "code",
   "execution_count": null,
   "metadata": {},
   "outputs": [],
   "source": [
    "#display(broader_philosophy_topics)\n",
    "broader_philosophy_topics.to_csv('data/BroaderTopics_en.csv', index=True)"
   ]
  }
 ],
 "metadata": {
  "kernelspec": {
   "display_name": "ada",
   "language": "python",
   "name": "python3"
  },
  "language_info": {
   "codemirror_mode": {
    "name": "ipython",
    "version": 3
   },
   "file_extension": ".py",
   "mimetype": "text/x-python",
   "name": "python",
   "nbconvert_exporter": "python",
   "pygments_lexer": "ipython3",
   "version": "3.9.18"
  }
 },
 "nbformat": 4,
 "nbformat_minor": 2
}
